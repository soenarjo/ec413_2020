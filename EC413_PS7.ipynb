{
 "cells": [
  {
   "cell_type": "code",
   "execution_count": 4,
   "metadata": {},
   "outputs": [],
   "source": [
    "import numpy as np\n",
    "import matplotlib.pyplot as plt\n",
    "\n",
    "# Parameters\n",
    "T = 100  # Simulation length\n",
    "\n",
    "# Initialise\n",
    "π_RE = np.zeros((T,1))\n",
    "π_AE = np.zeros((T,1))\n",
    "π_exp = np.zeros((T,1))\n",
    "c_y_RE = np.zeros((T,1))\n",
    "c_o_RE = np.zeros((T,1))\n",
    "c_y_AE = np.zeros((T,1))\n",
    "c_o_AE = np.zeros((T,1))\n",
    "u_RE = np.zeros((T,1))\n",
    "u_AE = np.zeros((T,1))\n",
    "\n",
    "# Initial values\n",
    "π_RE[0] = 1.5\n",
    "π_exp[0] = 1.5\n",
    "π_exp[1] = 1.5\n",
    "\n",
    "# Time paths for inflation\n",
    "for t in range(T-1):\n",
    "    π_RE[t+1] = 3 - 2/π_RE[t]\n",
    "    π_exp[t+1] = 0.5*π_AE[t-1] + 0.5*π_exp[t]\n",
    "    π_AE[t] = (1 - 0.5*π_exp[t]) / (1 - 0.5*π_exp[t+1])\n",
    "\n",
    "# Time paths for consumption\n",
    "for t in range(T-1):\n",
    "    c_y_RE[t] = 1 + π_RE[t+1]/2\n",
    "    c_o_RE[t] = 3 - c_y_RE[t]\n",
    "    c_y_AE[t] = 1 + π_AE[t+1]/2\n",
    "    c_o_AE[t] = 3 - c_y_AE[t]\n",
    "\n",
    "# Time paths for utility levels\n",
    "for t in range(T-2):\n",
    "    u_RE[t] = np.log(c_y_RE[t]) +np.log(c_o_RE[t+1])\n",
    "    u_AE[t] = np.log(c_y_AE[t]) + np.log(c_o_AE[t+1])"
   ]
  },
  {
   "cell_type": "code",
   "execution_count": 7,
   "metadata": {},
   "outputs": [
    {
     "data": {
      "image/png": "[encoded data removed]",
      "text/plain": [
       "<Figure size 432x288 with 1 Axes>"
      ]
     },
     "metadata": {
      "needs_background": "light"
     },
     "output_type": "display_data"
    }
   ],
   "source": [
    "# Plots for inflation dynamics\n",
    "fig, ax = plt.subplots()\n",
    "\n",
    "x = np.linspace(0, T, T)\n",
    "y = [π_RE, π_AE]\n",
    "labels = ['π_RE', 'π_AE']\n",
    "\n",
    "for iy, ilabel in zip(y, labels):\n",
    "    plt.plot(x, iy, label=ilabel, alpha=0.6,)\n",
    "    \n",
    "ax.set_ylabel('Gross Inflation')\n",
    "ax.set_xlabel('Time')\n",
    "ax.legend()\n",
    "plt.show()"
   ]
  },
  {
   "cell_type": "markdown",
   "metadata": {},
   "source": [
    "* Inflation ends up being higher in the Rational Expectations Economy"
   ]
  },
  {
   "cell_type": "code",
   "execution_count": 8,
   "metadata": {},
   "outputs": [
    {
     "data": {
      "image/png": "[encoded data removed]",
      "text/plain": [
       "<Figure size 432x288 with 1 Axes>"
      ]
     },
     "metadata": {
      "needs_background": "light"
     },
     "output_type": "display_data"
    }
   ],
   "source": [
    "# Plots for utility levels\n",
    "fig, ax = plt.subplots()\n",
    "\n",
    "x = np.linspace(0, T, T)\n",
    "y = [u_RE, u_AE]\n",
    "labels = ['u_RE', 'u_AE']\n",
    "\n",
    "for iy, ilabel in zip(y, labels):\n",
    "    plt.plot(x, iy, label=ilabel, alpha=0.6,)\n",
    "    \n",
    "ax.set_ylabel('Utility')\n",
    "ax.set_xlabel('Time')\n",
    "ax.legend()\n",
    "plt.show()"
   ]
  },
  {
   "cell_type": "markdown",
   "metadata": {},
   "source": [
    "* Notice that the utility level under Adaptive Expectations appears to be higher\n",
    "* However, this is only under the assumption that all other agents also have adaptive expectations.\n",
    "* An agent with rational expectation should have higher utility"
   ]
  },
  {
   "cell_type": "code",
   "execution_count": null,
   "metadata": {},
   "outputs": [],
   "source": []
  }
 ],
 "metadata": {
  "kernelspec": {
   "display_name": "Python 3",
   "language": "python",
   "name": "python3"
  },
  "language_info": {
   "codemirror_mode": {
    "name": "ipython",
    "version": 3
   },
   "file_extension": ".py",
   "mimetype": "text/x-python",
   "name": "python",
   "nbconvert_exporter": "python",
   "pygments_lexer": "ipython3",
   "version": "3.7.4"
  }
 },
 "nbformat": 4,
 "nbformat_minor": 2
}
